{
 "cells": [
  {
   "cell_type": "markdown",
   "metadata": {},
   "source": [
    "# Profile"
   ]
  },
  {
   "cell_type": "markdown",
   "metadata": {},
   "source": [
    "### Importing things and profile function"
   ]
  },
  {
   "cell_type": "code",
   "execution_count": 1,
   "metadata": {},
   "outputs": [],
   "source": [
    "import pandas as pd\n",
    "import matplotlib.pyplot as plt\n",
    "\n",
    "from lobq_profiler import profile"
   ]
  },
  {
   "cell_type": "markdown",
   "metadata": {},
   "source": [
    "### Profiling for Queue size of 10"
   ]
  },
  {
   "cell_type": "code",
   "execution_count": 2,
   "metadata": {
    "scrolled": true
   },
   "outputs": [
    {
     "data": {
      "text/html": [
       "<div>\n",
       "<style scoped>\n",
       "    .dataframe tbody tr th:only-of-type {\n",
       "        vertical-align: middle;\n",
       "    }\n",
       "\n",
       "    .dataframe tbody tr th {\n",
       "        vertical-align: top;\n",
       "    }\n",
       "\n",
       "    .dataframe thead th {\n",
       "        text-align: right;\n",
       "    }\n",
       "</style>\n",
       "<table border=\"1\" class=\"dataframe\">\n",
       "  <thead>\n",
       "    <tr style=\"text-align: right;\">\n",
       "      <th></th>\n",
       "      <th>type_</th>\n",
       "      <th>time</th>\n",
       "      <th>time_per_loop</th>\n",
       "      <th>q_size</th>\n",
       "      <th>data_size</th>\n",
       "      <th>levels</th>\n",
       "      <th>runs</th>\n",
       "      <th>scaled_time</th>\n",
       "    </tr>\n",
       "  </thead>\n",
       "  <tbody>\n",
       "    <tr>\n",
       "      <th>0</th>\n",
       "      <td>C API</td>\n",
       "      <td>0.000166</td>\n",
       "      <td>1.108109e-07</td>\n",
       "      <td>10</td>\n",
       "      <td>1500</td>\n",
       "      <td>5</td>\n",
       "      <td>100</td>\n",
       "      <td>1.000000</td>\n",
       "    </tr>\n",
       "    <tr>\n",
       "      <th>2</th>\n",
       "      <td>Cython</td>\n",
       "      <td>0.000592</td>\n",
       "      <td>3.944243e-07</td>\n",
       "      <td>10</td>\n",
       "      <td>1500</td>\n",
       "      <td>5</td>\n",
       "      <td>100</td>\n",
       "      <td>3.559437</td>\n",
       "    </tr>\n",
       "    <tr>\n",
       "      <th>4</th>\n",
       "      <td>Numpy</td>\n",
       "      <td>0.001077</td>\n",
       "      <td>7.180260e-07</td>\n",
       "      <td>10</td>\n",
       "      <td>1500</td>\n",
       "      <td>5</td>\n",
       "      <td>100</td>\n",
       "      <td>6.479744</td>\n",
       "    </tr>\n",
       "    <tr>\n",
       "      <th>1</th>\n",
       "      <td>Pure Python</td>\n",
       "      <td>0.001078</td>\n",
       "      <td>7.185063e-07</td>\n",
       "      <td>10</td>\n",
       "      <td>1500</td>\n",
       "      <td>5</td>\n",
       "      <td>100</td>\n",
       "      <td>6.484078</td>\n",
       "    </tr>\n",
       "    <tr>\n",
       "      <th>3</th>\n",
       "      <td>Builtin Queue</td>\n",
       "      <td>0.009693</td>\n",
       "      <td>6.461801e-06</td>\n",
       "      <td>10</td>\n",
       "      <td>1500</td>\n",
       "      <td>5</td>\n",
       "      <td>100</td>\n",
       "      <td>58.313792</td>\n",
       "    </tr>\n",
       "  </tbody>\n",
       "</table>\n",
       "</div>"
      ],
      "text/plain": [
       "           type_      time  time_per_loop  q_size  data_size  levels  runs  \\\n",
       "0          C API  0.000166   1.108109e-07      10       1500       5   100   \n",
       "2         Cython  0.000592   3.944243e-07      10       1500       5   100   \n",
       "4          Numpy  0.001077   7.180260e-07      10       1500       5   100   \n",
       "1    Pure Python  0.001078   7.185063e-07      10       1500       5   100   \n",
       "3  Builtin Queue  0.009693   6.461801e-06      10       1500       5   100   \n",
       "\n",
       "   scaled_time  \n",
       "0     1.000000  \n",
       "2     3.559437  \n",
       "4     6.479744  \n",
       "1     6.484078  \n",
       "3    58.313792  "
      ]
     },
     "execution_count": 2,
     "metadata": {},
     "output_type": "execute_result"
    }
   ],
   "source": [
    "result = profile(q_size=10, data_size=1500, levels=5, runs=100)\n",
    "result['scaled_time'] = result['time'] / min(result['time'])\n",
    "result = result.sort_values('scaled_time')\n",
    "result"
   ]
  },
  {
   "cell_type": "code",
   "execution_count": 3,
   "metadata": {},
   "outputs": [
    {
     "data": {
      "image/png": "[encoded data removed]",
      "text/plain": [
       "<Figure size 648x360 with 1 Axes>"
      ]
     },
     "metadata": {
      "needs_background": "light"
     },
     "output_type": "display_data"
    }
   ],
   "source": [
    "ax = result.plot(kind='barh', x='type_', y='scaled_time', color=\"slategray\", fontsize=13, figsize=(9,5))\n",
    "ax.set_alpha(0.1)\n",
    "ax.set_title(\"Queue Size: 10\", fontsize=18);\n",
    "ax.set_xlabel(\"CPU Time\", fontsize=18);\n",
    "ax.set_ylabel(\"Implemention\", fontsize=18);\n",
    "ax.set_xticks([i*5 for i in range(int(max(result['scaled_time']) / 5) + 3)])\n",
    "\n",
    "for i in ax.patches:\n",
    "    ax.text(\n",
    "        i.get_width()+.2, i.get_y()+.31, \n",
    "        f'{round((i.get_width()), 2)}x', \n",
    "        fontsize=15, color='dimgrey',\n",
    "    )\n",
    "    \n",
    "ax.invert_yaxis()\n"
   ]
  },
  {
   "cell_type": "markdown",
   "metadata": {},
   "source": [
    "### Profiling for Queue size of 200"
   ]
  },
  {
   "cell_type": "code",
   "execution_count": 6,
   "metadata": {
    "scrolled": true
   },
   "outputs": [
    {
     "data": {
      "text/html": [
       "<div>\n",
       "<style scoped>\n",
       "    .dataframe tbody tr th:only-of-type {\n",
       "        vertical-align: middle;\n",
       "    }\n",
       "\n",
       "    .dataframe tbody tr th {\n",
       "        vertical-align: top;\n",
       "    }\n",
       "\n",
       "    .dataframe thead th {\n",
       "        text-align: right;\n",
       "    }\n",
       "</style>\n",
       "<table border=\"1\" class=\"dataframe\">\n",
       "  <thead>\n",
       "    <tr style=\"text-align: right;\">\n",
       "      <th></th>\n",
       "      <th>type_</th>\n",
       "      <th>time</th>\n",
       "      <th>time_per_loop</th>\n",
       "      <th>q_size</th>\n",
       "      <th>data_size</th>\n",
       "      <th>levels</th>\n",
       "      <th>runs</th>\n",
       "      <th>scaled_time</th>\n",
       "    </tr>\n",
       "  </thead>\n",
       "  <tbody>\n",
       "    <tr>\n",
       "      <th>0</th>\n",
       "      <td>C API</td>\n",
       "      <td>0.000166</td>\n",
       "      <td>1.103532e-07</td>\n",
       "      <td>200</td>\n",
       "      <td>1500</td>\n",
       "      <td>5</td>\n",
       "      <td>100</td>\n",
       "      <td>1.000000</td>\n",
       "    </tr>\n",
       "    <tr>\n",
       "      <th>2</th>\n",
       "      <td>Cython</td>\n",
       "      <td>0.000572</td>\n",
       "      <td>3.814821e-07</td>\n",
       "      <td>200</td>\n",
       "      <td>1500</td>\n",
       "      <td>5</td>\n",
       "      <td>100</td>\n",
       "      <td>3.456919</td>\n",
       "    </tr>\n",
       "    <tr>\n",
       "      <th>4</th>\n",
       "      <td>Numpy</td>\n",
       "      <td>0.000909</td>\n",
       "      <td>6.060601e-07</td>\n",
       "      <td>200</td>\n",
       "      <td>1500</td>\n",
       "      <td>5</td>\n",
       "      <td>100</td>\n",
       "      <td>5.492003</td>\n",
       "    </tr>\n",
       "    <tr>\n",
       "      <th>1</th>\n",
       "      <td>Pure Python</td>\n",
       "      <td>0.001050</td>\n",
       "      <td>7.002741e-07</td>\n",
       "      <td>200</td>\n",
       "      <td>1500</td>\n",
       "      <td>5</td>\n",
       "      <td>100</td>\n",
       "      <td>6.345752</td>\n",
       "    </tr>\n",
       "    <tr>\n",
       "      <th>3</th>\n",
       "      <td>Builtin Queue</td>\n",
       "      <td>0.008653</td>\n",
       "      <td>5.768911e-06</td>\n",
       "      <td>200</td>\n",
       "      <td>1500</td>\n",
       "      <td>5</td>\n",
       "      <td>100</td>\n",
       "      <td>52.276786</td>\n",
       "    </tr>\n",
       "  </tbody>\n",
       "</table>\n",
       "</div>"
      ],
      "text/plain": [
       "           type_      time  time_per_loop  q_size  data_size  levels  runs  \\\n",
       "0          C API  0.000166   1.103532e-07     200       1500       5   100   \n",
       "2         Cython  0.000572   3.814821e-07     200       1500       5   100   \n",
       "4          Numpy  0.000909   6.060601e-07     200       1500       5   100   \n",
       "1    Pure Python  0.001050   7.002741e-07     200       1500       5   100   \n",
       "3  Builtin Queue  0.008653   5.768911e-06     200       1500       5   100   \n",
       "\n",
       "   scaled_time  \n",
       "0     1.000000  \n",
       "2     3.456919  \n",
       "4     5.492003  \n",
       "1     6.345752  \n",
       "3    52.276786  "
      ]
     },
     "execution_count": 6,
     "metadata": {},
     "output_type": "execute_result"
    }
   ],
   "source": [
    "result = profile(q_size=200, data_size=1500, levels=5, runs=100)\n",
    "result['scaled_time'] = result['time'] / min(result['time'])\n",
    "result = result.sort_values('scaled_time')\n",
    "result"
   ]
  },
  {
   "cell_type": "code",
   "execution_count": 7,
   "metadata": {},
   "outputs": [
    {
     "data": {
      "image/png": "[encoded data removed]",
      "text/plain": [
       "<Figure size 648x360 with 1 Axes>"
      ]
     },
     "metadata": {
      "needs_background": "light"
     },
     "output_type": "display_data"
    }
   ],
   "source": [
    "ax = result.plot(kind='barh', x='type_', y='scaled_time', color=\"slategray\", fontsize=13, figsize=(9,5))\n",
    "ax.set_alpha(0.1)\n",
    "ax.set_title(\"Queue Size:200\", fontsize=18);\n",
    "ax.set_xlabel(\"CPU Time\", fontsize=18);\n",
    "ax.set_ylabel(\"Implemention\", fontsize=18);\n",
    "ax.set_xticks([i*5 for i in range(int(max(result['scaled_time']) / 5) + 3)])\n",
    "\n",
    "for i in ax.patches:\n",
    "    ax.text(\n",
    "        i.get_width()+.2, i.get_y()+.31, \n",
    "        f'{round((i.get_width()), 2)}x', \n",
    "        fontsize=15, color='dimgrey',\n",
    "    )\n",
    "    \n",
    "ax.invert_yaxis()\n"
   ]
  },
  {
   "cell_type": "code",
   "execution_count": null,
   "metadata": {},
   "outputs": [],
   "source": []
  }
 ],
 "metadata": {
  "kernelspec": {
   "display_name": "Python 3",
   "language": "python",
   "name": "python3"
  },
  "language_info": {
   "codemirror_mode": {
    "name": "ipython",
    "version": 3
   },
   "file_extension": ".py",
   "mimetype": "text/x-python",
   "name": "python",
   "nbconvert_exporter": "python",
   "pygments_lexer": "ipython3",
   "version": "3.6.8"
  }
 },
 "nbformat": 4,
 "nbformat_minor": 2
}
