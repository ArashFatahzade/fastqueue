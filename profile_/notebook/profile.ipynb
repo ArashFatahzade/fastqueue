{
 "cells": [
  {
   "cell_type": "markdown",
   "metadata": {},
   "source": [
    "# Profile"
   ]
  },
  {
   "cell_type": "markdown",
   "metadata": {},
   "source": [
    "### Importing things and profile function"
   ]
  },
  {
   "cell_type": "code",
   "execution_count": 1,
   "metadata": {},
   "outputs": [],
   "source": [
    "import pandas as pd\n",
    "import matplotlib.pyplot as plt\n",
    "\n",
    "from profile_ import profile"
   ]
  },
  {
   "cell_type": "markdown",
   "metadata": {},
   "source": [
    "### Profiling for Queue size of 10"
   ]
  },
  {
   "cell_type": "code",
   "execution_count": null,
   "metadata": {
    "scrolled": true
   },
   "outputs": [],
   "source": [
    "result = profile(q_size=10, data_size=1500, levels=5, runs=1000)\n",
    "result['scaled_time'] = result['time'] / min(result['time'])\n",
    "result = result.sort_values('scaled_time')\n",
    "result"
   ]
  },
  {
   "cell_type": "code",
   "execution_count": null,
   "metadata": {},
   "outputs": [],
   "source": [
    "ax = result.plot(kind='barh', x='type_', y='scaled_time', color=\"slategray\", fontsize=13, figsize=(9,5))\n",
    "ax.set_alpha(0.1)\n",
    "ax.set_title(\"Queue Size: 10\", fontsize=18);\n",
    "ax.set_xlabel(\"CPU Time\", fontsize=18);\n",
    "ax.set_ylabel(\"Implemention\", fontsize=18);\n",
    "ax.set_xticks([i*5 for i in range(int(max(result['scaled_time']) / 5) + 3)])\n",
    "\n",
    "for i in ax.patches:\n",
    "    ax.text(\n",
    "        i.get_width()+.2, i.get_y()+.31, \n",
    "        f'{round((i.get_width()), 2)}x', \n",
    "        fontsize=15, color='dimgrey',\n",
    "    )\n",
    "    \n",
    "ax.invert_yaxis()\n"
   ]
  },
  {
   "cell_type": "markdown",
   "metadata": {},
   "source": [
    "### Profiling for Queue size of 200"
   ]
  },
  {
   "cell_type": "code",
   "execution_count": null,
   "metadata": {
    "scrolled": true
   },
   "outputs": [],
   "source": [
    "result = profile(q_size=200, data_size=1500, levels=5, runs=100)\n",
    "result['scaled_time'] = result['time'] / min(result['time'])\n",
    "result = result.sort_values('scaled_time')\n",
    "result"
   ]
  },
  {
   "cell_type": "code",
   "execution_count": null,
   "metadata": {},
   "outputs": [],
   "source": [
    "ax = result.plot(kind='barh', x='type_', y='scaled_time', color=\"slategray\", fontsize=13, figsize=(9,5))\n",
    "ax.set_alpha(0.1)\n",
    "ax.set_title(\"Queue Size:200\", fontsize=18);\n",
    "ax.set_xlabel(\"CPU Time\", fontsize=18);\n",
    "ax.set_ylabel(\"Implemention\", fontsize=18);\n",
    "ax.set_xticks([i*5 for i in range(int(max(result['scaled_time']) / 5) + 3)])\n",
    "\n",
    "for i in ax.patches:\n",
    "    ax.text(\n",
    "        i.get_width()+.2, i.get_y()+.31, \n",
    "        f'{round((i.get_width()), 2)}x', \n",
    "        fontsize=15, color='dimgrey',\n",
    "    )\n",
    "    \n",
    "ax.invert_yaxis()\n"
   ]
  }
 ],
 "metadata": {
  "kernelspec": {
   "display_name": "Python 3",
   "language": "python",
   "name": "python3"
  },
  "language_info": {
   "codemirror_mode": {
    "name": "ipython",
    "version": 3
   },
   "file_extension": ".py",
   "mimetype": "text/x-python",
   "name": "python",
   "nbconvert_exporter": "python",
   "pygments_lexer": "ipython3",
   "version": "3.6.8"
  }
 },
 "nbformat": 4,
 "nbformat_minor": 2
}
